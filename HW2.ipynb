{
 "cells": [
  {
   "cell_type": "markdown",
   "metadata": {},
   "source": [
    "### Задание №1"
   ]
  },
  {
   "cell_type": "code",
   "execution_count": 284,
   "metadata": {},
   "outputs": [
    {
     "name": "stdout",
     "output_type": "stream",
     "text": [
      "[{'visit1': ['Москва', 'Россия']}, {'visit3': ['Владимир', 'Россия']}, {'visit7': ['Тула', 'Россия']}, {'visit8': ['Тула', 'Россия']}, {'visit9': ['Курск', 'Россия']}, {'visit10': ['Архангельск', 'Россия']}]\n"
     ]
    }
   ],
   "source": [
    "geo_logs_result = []\n",
    "geo_logs = [\n",
    "    {'visit1': ['Москва', 'Россия']},\n",
    "    {'visit2': ['Дели', 'Индия']},\n",
    "    {'visit3': ['Владимир', 'Россия']},\n",
    "    {'visit4': ['Лиссабон', 'Португалия']},\n",
    "    {'visit5': ['Париж', 'Франция']},\n",
    "    {'visit6': ['Лиссабон', 'Португалия']},\n",
    "    {'visit7': ['Тула', 'Россия']},\n",
    "    {'visit8': ['Тула', 'Россия']},\n",
    "    {'visit9': ['Курск', 'Россия']},\n",
    "    {'visit10': ['Архангельск', 'Россия']},\n",
    "]\n",
    "for item in geo_logs:\n",
    "    for key, value in item.items():\n",
    "        if value[1] == 'Россия':\n",
    "            geo_logs_result.append(item)\n",
    "print (geo_logs_result)"
   ]
  },
  {
   "cell_type": "markdown",
   "metadata": {},
   "source": [
    "### Задание №2"
   ]
  },
  {
   "cell_type": "code",
   "execution_count": 285,
   "metadata": {},
   "outputs": [
    {
     "name": "stdout",
     "output_type": "stream",
     "text": [
      "[98, 35, 15, 213, 54, 119]\n"
     ]
    }
   ],
   "source": [
    "result_ids = []\n",
    "ids = {'user1': [213, 213, 213, 15, 213], 'user2': [54, 54, 119, 119, 119], 'user3': [213, 98, 98, 35]}\n",
    "for key in ids.values():\n",
    "    result_ids += key\n",
    "result_ids = set(result_ids)\n",
    "print(list(result_ids))       "
   ]
  },
  {
   "cell_type": "markdown",
   "metadata": {},
   "source": [
    "### Задание №3"
   ]
  },
  {
   "cell_type": "code",
   "execution_count": 316,
   "metadata": {},
   "outputs": [
    {
     "name": "stdout",
     "output_type": "stream",
     "text": [
      "Список из количества строк в каждой строке [3, 2, 2, 2, 3, 3, 3]\n",
      "Словарь из соответствия \"количество слов - количество повторений в строках начального списка\"{3: 4, 2: 3}\n",
      "Количество запросов из 3 слов равно 57.14%\n",
      "Количество запросов из 2 слов равно 42.86%\n"
     ]
    }
   ],
   "source": [
    "queries_split = []\n",
    "queries_list={}\n",
    "queries = [\n",
    "    'смотреть сериалы онлайн',\n",
    "    'новости спорта',\n",
    "    'афиша кино',\n",
    "    'курс доллара',\n",
    "    'сериалы этим летом',\n",
    "    'курс по питону',\n",
    "    'сериалы про спорт',\n",
    "]\n",
    "for item in queries:\n",
    "    queries_split.append(len(item.split(' ')))\n",
    "queries_sum = len(queries)\n",
    "print(\"Список из количества строк в каждой строке {}\".format(queries_split))\n",
    "for i in queries_split:\n",
    "    queries_list.setdefault(i, queries_split.count(i))\n",
    "print('Словарь из соответствия \"количество слов - количество повторений в строках начального списка\"{}'.format(queries_list))\n",
    "for key, value in queries_list.items():\n",
    "    print (\"Количество запросов из {} слов равно {:.2%}\".format(key,value/queries_sum))"
   ]
  },
  {
   "cell_type": "markdown",
   "metadata": {},
   "source": [
    "### Задание №4"
   ]
  },
  {
   "cell_type": "code",
   "execution_count": 317,
   "metadata": {},
   "outputs": [
    {
     "name": "stdout",
     "output_type": "stream",
     "text": [
      "Максимальный объем у yandex, он равен 120\n"
     ]
    }
   ],
   "source": [
    "stats = {'facebook': 55, 'yandex': 120, 'vk': 115, 'google': 99, 'email': 42, 'ok': 98}\n",
    "maximum_value = stats[list(stats.keys())[0]]\n",
    "maximum_item = \"\"\n",
    "for key, value in stats.items():\n",
    "    if stats[key] > maximum_value:\n",
    "        maximum_value = stats[key]\n",
    "        maximum_item = key\n",
    "print (\"Максимальный объем у {}, он равен {}\".format(maximum_item, maximum_value))"
   ]
  },
  {
   "cell_type": "markdown",
   "metadata": {},
   "source": [
    "### Задание №5"
   ]
  },
  {
   "cell_type": "code",
   "execution_count": 319,
   "metadata": {},
   "outputs": [
    {
     "name": "stdout",
     "output_type": "stream",
     "text": [
      "Количество просмотренных страниц для каждого пользователя {'user1': 21, 'user2': 7, 'user3': 14, 'user4': 51}\n",
      "Общее количество просмотров равно 93\n",
      "Всего пользователей 4\n",
      "Среднее количество просмотров равно 23\n"
     ]
    }
   ],
   "source": [
    "stream = [\n",
    "    '2018-01-01,user1,3',\n",
    "    '2018-01-07,user1,4',\n",
    "    '2018-03-29,user1,1',\n",
    "    '2018-04-04,user1,13',\n",
    "    '2018-01-05,user2,7',\n",
    "    '2018-06-14,user3,4',\n",
    "    '2018-07-02,user3,10',\n",
    "    '2018-03-21,user4,19',\n",
    "    '2018-03-22,user4,4',\n",
    "    '2018-04-22,user4,8',\n",
    "    '2018-05-03,user4,9',\n",
    "    '2018-05-11,user4,11',\n",
    "]\n",
    "stream_split=[]\n",
    "stream_dict={}\n",
    "total_views = 0\n",
    "for i in range(0,len(stream)):\n",
    "    stream_split.append(stream[i].split(\",\"))\n",
    "for i in range(0,len(stream_split)):\n",
    "    total_views += int(stream_split[i][2])\n",
    "    if stream_split[i][1] not in stream_split:\n",
    "        stream_dict.setdefault(stream_split[i][1], int())\n",
    "    stream_dict[stream_split[i][1]] += int(stream_split[i][2])\n",
    "print (\"Количество просмотренных страниц для каждого пользователя {}\".format(stream_dict))\n",
    "print (\"Общее количество просмотров равно {}\".format(total_views))\n",
    "print (\"Всего пользователей {}\".format(len(stream_dict)))\n",
    "print (\"Среднее количество просмотров равно {}\".format (round(total_views/len(stream_dict))))"
   ]
  },
  {
   "cell_type": "markdown",
   "metadata": {},
   "source": [
    "### Задание №6 (с учетом обобщенного варианта)"
   ]
  },
  {
   "cell_type": "code",
   "execution_count": 312,
   "metadata": {},
   "outputs": [
    {
     "name": "stdout",
     "output_type": "stream",
     "text": [
      "Введите 0-ое значение для поиска 2018-01-02\n",
      "Введите 1-ое значение для поиска yandex\n",
      "Введите 2-ое значение для поиска Кулешовка\n",
      "Значение правого столбца найденого совпадения равно 249\n"
     ]
    }
   ],
   "source": [
    "stats = [\n",
    "    ['2018-01-01', 'google', 'Москва', 25],\n",
    "    ['2018-01-01', 'yandex', 'Ростов', 65],\n",
    "    ['2018-01-01', 'market', 'Киев', 89],\n",
    "    ['2018-01-02', 'google', 'Азов', 574],\n",
    "    ['2018-01-02', 'yandex', 'Кулешовка', 249],\n",
    "    ['2018-01-02', 'market', 'Королев', 994],\n",
    "    ['2018-01-03', 'google', 'Батайск', 1843],\n",
    "    ['2018-01-03', 'yandex', 'Смоленск', 1327],\n",
    "    ['2018-01-03', 'market', 'Новгород', 1764],\n",
    "]\n",
    "search_line = []\n",
    "colls = len(stats[0])-1\n",
    "clear_lines = []\n",
    "last_coll_values=[]\n",
    "found_check = False\n",
    "for i in range(0,colls):\n",
    "    value = input('Введите {}-ое значение для поиска '.format(i))\n",
    "    search_line.append(str(value))\n",
    "for i in stats:\n",
    "    last_coll_values.append(i[colls])\n",
    "    del (i[colls])\n",
    "    clear_lines.append(i)\n",
    "for i in clear_lines:\n",
    "    if i == search_line:\n",
    "        result_index = clear_lines.index(i)\n",
    "        found_check = True\n",
    "        break\n",
    "if found_check:\n",
    "    print (\"Значение правого столбца найденого совпадения равно {}\".format(last_coll_values[result_index]))\n",
    "else:\n",
    "    print('Совпадения не найдено')\n",
    "        "
   ]
  }
 ],
 "metadata": {
  "kernelspec": {
   "display_name": "Python 3",
   "language": "python",
   "name": "python3"
  },
  "language_info": {
   "codemirror_mode": {
    "name": "ipython",
    "version": 3
   },
   "file_extension": ".py",
   "mimetype": "text/x-python",
   "name": "python",
   "nbconvert_exporter": "python",
   "pygments_lexer": "ipython3",
   "version": "3.7.3"
  }
 },
 "nbformat": 4,
 "nbformat_minor": 2
}
